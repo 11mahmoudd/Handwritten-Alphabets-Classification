{
 "cells": [
  {
   "cell_type": "code",
   "id": "initial_id",
   "metadata": {
    "collapsed": true,
    "ExecuteTime": {
     "end_time": "2024-12-21T14:07:28.724983Z",
     "start_time": "2024-12-21T14:07:28.674800Z"
    }
   },
   "source": [
    "import numpy as np\n",
    "import pandas as pd\n",
    "import matplotlib.pyplot as plt\n",
    "from sklearn.model_selection import train_test_split\n",
    "from sklearn.preprocessing import StandardScaler\n",
    "from sklearn.svm import SVC\n",
    "import seaborn as sns\n",
    "from sklearn.metrics import confusion_matrix, classification_report, f1_score\n",
    "from tensorflow.keras.models import Sequential\n",
    "from tensorflow.keras.layers import Dense, Flatten\n",
    "from tensorflow.keras.utils import to_categorical"
   ],
   "outputs": [],
   "execution_count": 50
  },
  {
   "metadata": {
    "ExecuteTime": {
     "end_time": "2024-12-21T11:22:07.027335Z",
     "start_time": "2024-12-21T11:21:39.786398Z"
    }
   },
   "cell_type": "code",
   "source": "data = pd.read_csv(\"A_Z Handwritten Data.csv\")\n",
   "id": "e73d9b5ba49e4e1c",
   "outputs": [],
   "execution_count": 3
  },
  {
   "metadata": {
    "ExecuteTime": {
     "end_time": "2024-12-21T11:22:07.440732Z",
     "start_time": "2024-12-21T11:22:07.374257Z"
    }
   },
   "cell_type": "code",
   "source": "data.head()",
   "id": "f1141a0acfaa6a3d",
   "outputs": [
    {
     "data": {
      "text/plain": [
       "   0  0.1  0.2  0.3  0.4  0.5  0.6  0.7  0.8  0.9  ...  0.639  0.640  0.641  \\\n",
       "0  0    0    0    0    0    0    0    0    0    0  ...      0      0      0   \n",
       "1  0    0    0    0    0    0    0    0    0    0  ...      0      0      0   \n",
       "2  0    0    0    0    0    0    0    0    0    0  ...      0      0      0   \n",
       "3  0    0    0    0    0    0    0    0    0    0  ...      0      0      0   \n",
       "4  0    0    0    0    0    0    0    0    0    0  ...      0      0      0   \n",
       "\n",
       "   0.642  0.643  0.644  0.645  0.646  0.647  0.648  \n",
       "0      0      0      0      0      0      0      0  \n",
       "1      0      0      0      0      0      0      0  \n",
       "2      0      0      0      0      0      0      0  \n",
       "3      0      0      0      0      0      0      0  \n",
       "4      0      0      0      0      0      0      0  \n",
       "\n",
       "[5 rows x 785 columns]"
      ],
      "text/html": [
       "<div>\n",
       "<style scoped>\n",
       "    .dataframe tbody tr th:only-of-type {\n",
       "        vertical-align: middle;\n",
       "    }\n",
       "\n",
       "    .dataframe tbody tr th {\n",
       "        vertical-align: top;\n",
       "    }\n",
       "\n",
       "    .dataframe thead th {\n",
       "        text-align: right;\n",
       "    }\n",
       "</style>\n",
       "<table border=\"1\" class=\"dataframe\">\n",
       "  <thead>\n",
       "    <tr style=\"text-align: right;\">\n",
       "      <th></th>\n",
       "      <th>0</th>\n",
       "      <th>0.1</th>\n",
       "      <th>0.2</th>\n",
       "      <th>0.3</th>\n",
       "      <th>0.4</th>\n",
       "      <th>0.5</th>\n",
       "      <th>0.6</th>\n",
       "      <th>0.7</th>\n",
       "      <th>0.8</th>\n",
       "      <th>0.9</th>\n",
       "      <th>...</th>\n",
       "      <th>0.639</th>\n",
       "      <th>0.640</th>\n",
       "      <th>0.641</th>\n",
       "      <th>0.642</th>\n",
       "      <th>0.643</th>\n",
       "      <th>0.644</th>\n",
       "      <th>0.645</th>\n",
       "      <th>0.646</th>\n",
       "      <th>0.647</th>\n",
       "      <th>0.648</th>\n",
       "    </tr>\n",
       "  </thead>\n",
       "  <tbody>\n",
       "    <tr>\n",
       "      <th>0</th>\n",
       "      <td>0</td>\n",
       "      <td>0</td>\n",
       "      <td>0</td>\n",
       "      <td>0</td>\n",
       "      <td>0</td>\n",
       "      <td>0</td>\n",
       "      <td>0</td>\n",
       "      <td>0</td>\n",
       "      <td>0</td>\n",
       "      <td>0</td>\n",
       "      <td>...</td>\n",
       "      <td>0</td>\n",
       "      <td>0</td>\n",
       "      <td>0</td>\n",
       "      <td>0</td>\n",
       "      <td>0</td>\n",
       "      <td>0</td>\n",
       "      <td>0</td>\n",
       "      <td>0</td>\n",
       "      <td>0</td>\n",
       "      <td>0</td>\n",
       "    </tr>\n",
       "    <tr>\n",
       "      <th>1</th>\n",
       "      <td>0</td>\n",
       "      <td>0</td>\n",
       "      <td>0</td>\n",
       "      <td>0</td>\n",
       "      <td>0</td>\n",
       "      <td>0</td>\n",
       "      <td>0</td>\n",
       "      <td>0</td>\n",
       "      <td>0</td>\n",
       "      <td>0</td>\n",
       "      <td>...</td>\n",
       "      <td>0</td>\n",
       "      <td>0</td>\n",
       "      <td>0</td>\n",
       "      <td>0</td>\n",
       "      <td>0</td>\n",
       "      <td>0</td>\n",
       "      <td>0</td>\n",
       "      <td>0</td>\n",
       "      <td>0</td>\n",
       "      <td>0</td>\n",
       "    </tr>\n",
       "    <tr>\n",
       "      <th>2</th>\n",
       "      <td>0</td>\n",
       "      <td>0</td>\n",
       "      <td>0</td>\n",
       "      <td>0</td>\n",
       "      <td>0</td>\n",
       "      <td>0</td>\n",
       "      <td>0</td>\n",
       "      <td>0</td>\n",
       "      <td>0</td>\n",
       "      <td>0</td>\n",
       "      <td>...</td>\n",
       "      <td>0</td>\n",
       "      <td>0</td>\n",
       "      <td>0</td>\n",
       "      <td>0</td>\n",
       "      <td>0</td>\n",
       "      <td>0</td>\n",
       "      <td>0</td>\n",
       "      <td>0</td>\n",
       "      <td>0</td>\n",
       "      <td>0</td>\n",
       "    </tr>\n",
       "    <tr>\n",
       "      <th>3</th>\n",
       "      <td>0</td>\n",
       "      <td>0</td>\n",
       "      <td>0</td>\n",
       "      <td>0</td>\n",
       "      <td>0</td>\n",
       "      <td>0</td>\n",
       "      <td>0</td>\n",
       "      <td>0</td>\n",
       "      <td>0</td>\n",
       "      <td>0</td>\n",
       "      <td>...</td>\n",
       "      <td>0</td>\n",
       "      <td>0</td>\n",
       "      <td>0</td>\n",
       "      <td>0</td>\n",
       "      <td>0</td>\n",
       "      <td>0</td>\n",
       "      <td>0</td>\n",
       "      <td>0</td>\n",
       "      <td>0</td>\n",
       "      <td>0</td>\n",
       "    </tr>\n",
       "    <tr>\n",
       "      <th>4</th>\n",
       "      <td>0</td>\n",
       "      <td>0</td>\n",
       "      <td>0</td>\n",
       "      <td>0</td>\n",
       "      <td>0</td>\n",
       "      <td>0</td>\n",
       "      <td>0</td>\n",
       "      <td>0</td>\n",
       "      <td>0</td>\n",
       "      <td>0</td>\n",
       "      <td>...</td>\n",
       "      <td>0</td>\n",
       "      <td>0</td>\n",
       "      <td>0</td>\n",
       "      <td>0</td>\n",
       "      <td>0</td>\n",
       "      <td>0</td>\n",
       "      <td>0</td>\n",
       "      <td>0</td>\n",
       "      <td>0</td>\n",
       "      <td>0</td>\n",
       "    </tr>\n",
       "  </tbody>\n",
       "</table>\n",
       "<p>5 rows × 785 columns</p>\n",
       "</div>"
      ]
     },
     "execution_count": 4,
     "metadata": {},
     "output_type": "execute_result"
    }
   ],
   "execution_count": 4
  },
  {
   "metadata": {
    "ExecuteTime": {
     "end_time": "2024-12-21T11:22:07.493720Z",
     "start_time": "2024-12-21T11:22:07.476670Z"
    }
   },
   "cell_type": "code",
   "source": [
    "def check_unique_classes():\n",
    "    unique_classes, class_counts = np.unique(data.iloc[:, 0].values, return_counts=True)\n",
    "    print(\"Unique classes:\", unique_classes)\n",
    "    print(\"Class counts:\", class_counts)\n",
    "    return unique_classes, class_counts"
   ],
   "id": "52aeed2b54a8049f",
   "outputs": [],
   "execution_count": 5
  },
  {
   "metadata": {
    "ExecuteTime": {
     "end_time": "2024-12-21T11:22:08.025365Z",
     "start_time": "2024-12-21T11:22:08.004553Z"
    }
   },
   "cell_type": "code",
   "source": "unique_classes, class_counts = check_unique_classes()",
   "id": "443700dfd1d128c2",
   "outputs": [
    {
     "name": "stdout",
     "output_type": "stream",
     "text": [
      "Unique classes: [ 0  1  2  3  4  5  6  7  8  9 10 11 12 13 14 15 16 17 18 19 20 21 22 23\n",
      " 24 25]\n",
      "Class counts: [13869  8668 23409 10134 11440  1163  5762  7218  1120  8493  5603 11586\n",
      " 12336 19010 57825 19341  5812 11566 48419 22495 29008  4182 10784  6272\n",
      " 10859  6076]\n"
     ]
    }
   ],
   "execution_count": 6
  },
  {
   "metadata": {
    "ExecuteTime": {
     "end_time": "2024-12-21T11:22:08.107369Z",
     "start_time": "2024-12-21T11:22:08.103475Z"
    }
   },
   "cell_type": "code",
   "source": [
    "X = data.iloc[:, 1:].values\n",
    "y = data.iloc[:, 0].values"
   ],
   "id": "a250fe67f49401b7",
   "outputs": [],
   "execution_count": 7
  },
  {
   "metadata": {
    "ExecuteTime": {
     "end_time": "2024-12-21T11:22:08.321466Z",
     "start_time": "2024-12-21T11:22:08.313863Z"
    }
   },
   "cell_type": "code",
   "source": "X",
   "id": "65b7f66a4e573818",
   "outputs": [
    {
     "data": {
      "text/plain": [
       "array([[0, 0, 0, ..., 0, 0, 0],\n",
       "       [0, 0, 0, ..., 0, 0, 0],\n",
       "       [0, 0, 0, ..., 0, 0, 0],\n",
       "       ...,\n",
       "       [0, 0, 0, ..., 0, 0, 0],\n",
       "       [0, 0, 0, ..., 0, 0, 0],\n",
       "       [0, 0, 0, ..., 0, 0, 0]])"
      ]
     },
     "execution_count": 8,
     "metadata": {},
     "output_type": "execute_result"
    }
   ],
   "execution_count": 8
  },
  {
   "metadata": {
    "ExecuteTime": {
     "end_time": "2024-12-21T11:22:08.422047Z",
     "start_time": "2024-12-21T11:22:08.406726Z"
    }
   },
   "cell_type": "code",
   "source": "y",
   "id": "d89f7ca21618a52c",
   "outputs": [
    {
     "data": {
      "text/plain": [
       "array([ 0,  0,  0, ..., 25, 25, 25])"
      ]
     },
     "execution_count": 9,
     "metadata": {},
     "output_type": "execute_result"
    }
   ],
   "execution_count": 9
  },
  {
   "metadata": {
    "ExecuteTime": {
     "end_time": "2024-12-21T11:22:14.185490Z",
     "start_time": "2024-12-21T11:22:08.500164Z"
    }
   },
   "cell_type": "code",
   "source": "X = X / 255.0",
   "id": "d6a6aa0daba599bc",
   "outputs": [],
   "execution_count": 10
  },
  {
   "metadata": {
    "ExecuteTime": {
     "end_time": "2024-12-21T11:22:14.298845Z",
     "start_time": "2024-12-21T11:22:14.232357Z"
    }
   },
   "cell_type": "code",
   "source": [
    "def visualize_sample(index):\n",
    "    image = X[index].reshape(28, 28)\n",
    "    plt.imshow(image, cmap=\"gray\")\n",
    "    plt.title(f\"Label: {y[index]}\")\n",
    "    plt.show()"
   ],
   "id": "da0f7a77270ec377",
   "outputs": [],
   "execution_count": 11
  },
  {
   "metadata": {
    "ExecuteTime": {
     "end_time": "2024-12-21T11:22:15.435196Z",
     "start_time": "2024-12-21T11:22:14.480637Z"
    }
   },
   "cell_type": "code",
   "source": "visualize_sample(370000)",
   "id": "878f95587d44aa4c",
   "outputs": [
    {
     "data": {
      "text/plain": [
       "<Figure size 640x480 with 1 Axes>"
      ],
      "image/png": "[encoded data removed]"
     },
     "metadata": {},
     "output_type": "display_data"
    }
   ],
   "execution_count": 12
  },
  {
   "metadata": {
    "ExecuteTime": {
     "end_time": "2024-12-21T11:22:15.581504Z",
     "start_time": "2024-12-21T11:22:15.572025Z"
    }
   },
   "cell_type": "code",
   "source": "",
   "id": "594d40a5296d79f6",
   "outputs": [],
   "execution_count": 13
  },
  {
   "metadata": {
    "ExecuteTime": {
     "end_time": "2024-12-21T11:52:51.920753Z",
     "start_time": "2024-12-21T11:52:51.778683Z"
    }
   },
   "cell_type": "code",
   "source": [
    "# def limit_class_samples(data, label_column, n):\n",
    "#   limited_data = data.groupby(label_column).apply(\n",
    "#       lambda x: x.sample(n=min(len(x), n), random_state=42)).reset_index(drop=True)\n",
    "#   return limited_data"
   ],
   "id": "c4192f1d565d0c15",
   "outputs": [],
   "execution_count": 19
  },
  {
   "metadata": {
    "ExecuteTime": {
     "end_time": "2024-12-21T14:02:52.558348Z",
     "start_time": "2024-12-21T14:02:31.943311Z"
    }
   },
   "cell_type": "code",
   "source": "# df = limit_class_samples(data, \"0\", 1000)",
   "id": "a945d3e1dca87388",
   "outputs": [
    {
     "name": "stderr",
     "output_type": "stream",
     "text": [
      "C:\\Users\\mahmo\\AppData\\Local\\Temp\\ipykernel_18248\\4246819692.py:2: DeprecationWarning: DataFrameGroupBy.apply operated on the grouping columns. This behavior is deprecated, and in a future version of pandas the grouping columns will be excluded from the operation. Either pass `include_groups=False` to exclude the groupings or explicitly select the grouping columns after groupby to silence this warning.\n",
      "  limited_data = data.groupby(label_column).apply(\n"
     ]
    }
   ],
   "execution_count": 44
  },
  {
   "metadata": {
    "ExecuteTime": {
     "end_time": "2024-12-21T14:04:31.897416Z",
     "start_time": "2024-12-21T14:04:31.864549Z"
    }
   },
   "cell_type": "code",
   "source": [
    "def samples(data, label_column, n=1000):\n",
    "    # Create an empty list to store the sampled data\n",
    "    sampled_data = []\n",
    "\n",
    "    # Iterate over each class in the label column\n",
    "    for label in data[label_column].unique():\n",
    "        # Select all samples from the current class\n",
    "        class_data = data[data[label_column] == label]\n",
    "        \n",
    "        # If there are more than 'n' samples, randomly sample 'n' of them\n",
    "        if len(class_data) > n:\n",
    "            class_data = class_data.sample(n=n, random_state=42)\n",
    "        \n",
    "        # Append the selected class samples to the sampled_data list\n",
    "        sampled_data.append(class_data)\n",
    "    \n",
    "    # Concatenate the sampled data into a single DataFrame\n",
    "    return pd.concat(sampled_data).reset_index(drop=True)"
   ],
   "id": "2c087c7a0f498962",
   "outputs": [],
   "execution_count": 45
  },
  {
   "metadata": {
    "ExecuteTime": {
     "end_time": "2024-12-21T14:04:48.000600Z",
     "start_time": "2024-12-21T14:04:38.362548Z"
    }
   },
   "cell_type": "code",
   "source": "df = samples(data, \"0\", 1000)",
   "id": "c477496aaa945741",
   "outputs": [],
   "execution_count": 46
  },
  {
   "metadata": {
    "ExecuteTime": {
     "end_time": "2024-12-21T11:54:01.102880Z",
     "start_time": "2024-12-21T11:54:01.097665Z"
    }
   },
   "cell_type": "code",
   "source": [
    "x = df.iloc[:, 1:]\n",
    "y = df.iloc[:, 0]"
   ],
   "id": "b0fce29a777497f3",
   "outputs": [],
   "execution_count": 24
  },
  {
   "metadata": {
    "ExecuteTime": {
     "end_time": "2024-12-21T14:05:00.770495Z",
     "start_time": "2024-12-21T14:05:00.685522Z"
    }
   },
   "cell_type": "code",
   "source": "y",
   "id": "4328b08a48ec57b9",
   "outputs": [
    {
     "data": {
      "text/plain": [
       "0         0\n",
       "1         0\n",
       "2         0\n",
       "3         0\n",
       "4         0\n",
       "         ..\n",
       "25995    25\n",
       "25996    25\n",
       "25997    25\n",
       "25998    25\n",
       "25999    25\n",
       "Name: 0, Length: 26000, dtype: int64"
      ]
     },
     "execution_count": 47,
     "metadata": {},
     "output_type": "execute_result"
    }
   ],
   "execution_count": 47
  },
  {
   "metadata": {
    "ExecuteTime": {
     "end_time": "2024-12-21T14:05:04.000324Z",
     "start_time": "2024-12-21T14:05:03.956302Z"
    }
   },
   "cell_type": "code",
   "source": "x",
   "id": "e5f78f01afcfd170",
   "outputs": [
    {
     "data": {
      "text/plain": [
       "       0.1  0.2  0.3  0.4  0.5  0.6  0.7  0.8  0.9  0.10  ...  0.639  0.640  \\\n",
       "0        0    0    0    0    0    0    0    0    0     0  ...      0      0   \n",
       "1        0    0    0    0    0    0    0    0    0     0  ...      0      0   \n",
       "2        0    0    0    0    0    0    0    0    0     0  ...      0      0   \n",
       "3        0    0    0    0    0    0    0    0    0     0  ...      0      0   \n",
       "4        0    0    0    0    0    0    0    0    0     0  ...      0      0   \n",
       "...    ...  ...  ...  ...  ...  ...  ...  ...  ...   ...  ...    ...    ...   \n",
       "25995    0    0    0    0    0    0    0    0    0     0  ...      0      0   \n",
       "25996    0    0    0    0    0    0    0    0    0     0  ...      0      0   \n",
       "25997    0    0    0    0    0    0    0    0    0     0  ...      0      0   \n",
       "25998    0    0    0    0    0    0    0    0    0     0  ...      0      0   \n",
       "25999    0    0    0    0    0    0    0    0    0     0  ...      0      0   \n",
       "\n",
       "       0.641  0.642  0.643  0.644  0.645  0.646  0.647  0.648  \n",
       "0          0      0      0      0      0      0      0      0  \n",
       "1          0      0      0      0      0      0      0      0  \n",
       "2          0      0      0      0      0      0      0      0  \n",
       "3          0      0      0      0      0      0      0      0  \n",
       "4          0      0      0      0      0      0      0      0  \n",
       "...      ...    ...    ...    ...    ...    ...    ...    ...  \n",
       "25995      0      0      0      0      0      0      0      0  \n",
       "25996      0      0      0      0      0      0      0      0  \n",
       "25997      0      0      0      0      0      0      0      0  \n",
       "25998      0      0      0      0      0      0      0      0  \n",
       "25999      0      0      0      0      0      0      0      0  \n",
       "\n",
       "[26000 rows x 784 columns]"
      ],
      "text/html": [
       "<div>\n",
       "<style scoped>\n",
       "    .dataframe tbody tr th:only-of-type {\n",
       "        vertical-align: middle;\n",
       "    }\n",
       "\n",
       "    .dataframe tbody tr th {\n",
       "        vertical-align: top;\n",
       "    }\n",
       "\n",
       "    .dataframe thead th {\n",
       "        text-align: right;\n",
       "    }\n",
       "</style>\n",
       "<table border=\"1\" class=\"dataframe\">\n",
       "  <thead>\n",
       "    <tr style=\"text-align: right;\">\n",
       "      <th></th>\n",
       "      <th>0.1</th>\n",
       "      <th>0.2</th>\n",
       "      <th>0.3</th>\n",
       "      <th>0.4</th>\n",
       "      <th>0.5</th>\n",
       "      <th>0.6</th>\n",
       "      <th>0.7</th>\n",
       "      <th>0.8</th>\n",
       "      <th>0.9</th>\n",
       "      <th>0.10</th>\n",
       "      <th>...</th>\n",
       "      <th>0.639</th>\n",
       "      <th>0.640</th>\n",
       "      <th>0.641</th>\n",
       "      <th>0.642</th>\n",
       "      <th>0.643</th>\n",
       "      <th>0.644</th>\n",
       "      <th>0.645</th>\n",
       "      <th>0.646</th>\n",
       "      <th>0.647</th>\n",
       "      <th>0.648</th>\n",
       "    </tr>\n",
       "  </thead>\n",
       "  <tbody>\n",
       "    <tr>\n",
       "      <th>0</th>\n",
       "      <td>0</td>\n",
       "      <td>0</td>\n",
       "      <td>0</td>\n",
       "      <td>0</td>\n",
       "      <td>0</td>\n",
       "      <td>0</td>\n",
       "      <td>0</td>\n",
       "      <td>0</td>\n",
       "      <td>0</td>\n",
       "      <td>0</td>\n",
       "      <td>...</td>\n",
       "      <td>0</td>\n",
       "      <td>0</td>\n",
       "      <td>0</td>\n",
       "      <td>0</td>\n",
       "      <td>0</td>\n",
       "      <td>0</td>\n",
       "      <td>0</td>\n",
       "      <td>0</td>\n",
       "      <td>0</td>\n",
       "      <td>0</td>\n",
       "    </tr>\n",
       "    <tr>\n",
       "      <th>1</th>\n",
       "      <td>0</td>\n",
       "      <td>0</td>\n",
       "      <td>0</td>\n",
       "      <td>0</td>\n",
       "      <td>0</td>\n",
       "      <td>0</td>\n",
       "      <td>0</td>\n",
       "      <td>0</td>\n",
       "      <td>0</td>\n",
       "      <td>0</td>\n",
       "      <td>...</td>\n",
       "      <td>0</td>\n",
       "      <td>0</td>\n",
       "      <td>0</td>\n",
       "      <td>0</td>\n",
       "      <td>0</td>\n",
       "      <td>0</td>\n",
       "      <td>0</td>\n",
       "      <td>0</td>\n",
       "      <td>0</td>\n",
       "      <td>0</td>\n",
       "    </tr>\n",
       "    <tr>\n",
       "      <th>2</th>\n",
       "      <td>0</td>\n",
       "      <td>0</td>\n",
       "      <td>0</td>\n",
       "      <td>0</td>\n",
       "      <td>0</td>\n",
       "      <td>0</td>\n",
       "      <td>0</td>\n",
       "      <td>0</td>\n",
       "      <td>0</td>\n",
       "      <td>0</td>\n",
       "      <td>...</td>\n",
       "      <td>0</td>\n",
       "      <td>0</td>\n",
       "      <td>0</td>\n",
       "      <td>0</td>\n",
       "      <td>0</td>\n",
       "      <td>0</td>\n",
       "      <td>0</td>\n",
       "      <td>0</td>\n",
       "      <td>0</td>\n",
       "      <td>0</td>\n",
       "    </tr>\n",
       "    <tr>\n",
       "      <th>3</th>\n",
       "      <td>0</td>\n",
       "      <td>0</td>\n",
       "      <td>0</td>\n",
       "      <td>0</td>\n",
       "      <td>0</td>\n",
       "      <td>0</td>\n",
       "      <td>0</td>\n",
       "      <td>0</td>\n",
       "      <td>0</td>\n",
       "      <td>0</td>\n",
       "      <td>...</td>\n",
       "      <td>0</td>\n",
       "      <td>0</td>\n",
       "      <td>0</td>\n",
       "      <td>0</td>\n",
       "      <td>0</td>\n",
       "      <td>0</td>\n",
       "      <td>0</td>\n",
       "      <td>0</td>\n",
       "      <td>0</td>\n",
       "      <td>0</td>\n",
       "    </tr>\n",
       "    <tr>\n",
       "      <th>4</th>\n",
       "      <td>0</td>\n",
       "      <td>0</td>\n",
       "      <td>0</td>\n",
       "      <td>0</td>\n",
       "      <td>0</td>\n",
       "      <td>0</td>\n",
       "      <td>0</td>\n",
       "      <td>0</td>\n",
       "      <td>0</td>\n",
       "      <td>0</td>\n",
       "      <td>...</td>\n",
       "      <td>0</td>\n",
       "      <td>0</td>\n",
       "      <td>0</td>\n",
       "      <td>0</td>\n",
       "      <td>0</td>\n",
       "      <td>0</td>\n",
       "      <td>0</td>\n",
       "      <td>0</td>\n",
       "      <td>0</td>\n",
       "      <td>0</td>\n",
       "    </tr>\n",
       "    <tr>\n",
       "      <th>...</th>\n",
       "      <td>...</td>\n",
       "      <td>...</td>\n",
       "      <td>...</td>\n",
       "      <td>...</td>\n",
       "      <td>...</td>\n",
       "      <td>...</td>\n",
       "      <td>...</td>\n",
       "      <td>...</td>\n",
       "      <td>...</td>\n",
       "      <td>...</td>\n",
       "      <td>...</td>\n",
       "      <td>...</td>\n",
       "      <td>...</td>\n",
       "      <td>...</td>\n",
       "      <td>...</td>\n",
       "      <td>...</td>\n",
       "      <td>...</td>\n",
       "      <td>...</td>\n",
       "      <td>...</td>\n",
       "      <td>...</td>\n",
       "      <td>...</td>\n",
       "    </tr>\n",
       "    <tr>\n",
       "      <th>25995</th>\n",
       "      <td>0</td>\n",
       "      <td>0</td>\n",
       "      <td>0</td>\n",
       "      <td>0</td>\n",
       "      <td>0</td>\n",
       "      <td>0</td>\n",
       "      <td>0</td>\n",
       "      <td>0</td>\n",
       "      <td>0</td>\n",
       "      <td>0</td>\n",
       "      <td>...</td>\n",
       "      <td>0</td>\n",
       "      <td>0</td>\n",
       "      <td>0</td>\n",
       "      <td>0</td>\n",
       "      <td>0</td>\n",
       "      <td>0</td>\n",
       "      <td>0</td>\n",
       "      <td>0</td>\n",
       "      <td>0</td>\n",
       "      <td>0</td>\n",
       "    </tr>\n",
       "    <tr>\n",
       "      <th>25996</th>\n",
       "      <td>0</td>\n",
       "      <td>0</td>\n",
       "      <td>0</td>\n",
       "      <td>0</td>\n",
       "      <td>0</td>\n",
       "      <td>0</td>\n",
       "      <td>0</td>\n",
       "      <td>0</td>\n",
       "      <td>0</td>\n",
       "      <td>0</td>\n",
       "      <td>...</td>\n",
       "      <td>0</td>\n",
       "      <td>0</td>\n",
       "      <td>0</td>\n",
       "      <td>0</td>\n",
       "      <td>0</td>\n",
       "      <td>0</td>\n",
       "      <td>0</td>\n",
       "      <td>0</td>\n",
       "      <td>0</td>\n",
       "      <td>0</td>\n",
       "    </tr>\n",
       "    <tr>\n",
       "      <th>25997</th>\n",
       "      <td>0</td>\n",
       "      <td>0</td>\n",
       "      <td>0</td>\n",
       "      <td>0</td>\n",
       "      <td>0</td>\n",
       "      <td>0</td>\n",
       "      <td>0</td>\n",
       "      <td>0</td>\n",
       "      <td>0</td>\n",
       "      <td>0</td>\n",
       "      <td>...</td>\n",
       "      <td>0</td>\n",
       "      <td>0</td>\n",
       "      <td>0</td>\n",
       "      <td>0</td>\n",
       "      <td>0</td>\n",
       "      <td>0</td>\n",
       "      <td>0</td>\n",
       "      <td>0</td>\n",
       "      <td>0</td>\n",
       "      <td>0</td>\n",
       "    </tr>\n",
       "    <tr>\n",
       "      <th>25998</th>\n",
       "      <td>0</td>\n",
       "      <td>0</td>\n",
       "      <td>0</td>\n",
       "      <td>0</td>\n",
       "      <td>0</td>\n",
       "      <td>0</td>\n",
       "      <td>0</td>\n",
       "      <td>0</td>\n",
       "      <td>0</td>\n",
       "      <td>0</td>\n",
       "      <td>...</td>\n",
       "      <td>0</td>\n",
       "      <td>0</td>\n",
       "      <td>0</td>\n",
       "      <td>0</td>\n",
       "      <td>0</td>\n",
       "      <td>0</td>\n",
       "      <td>0</td>\n",
       "      <td>0</td>\n",
       "      <td>0</td>\n",
       "      <td>0</td>\n",
       "    </tr>\n",
       "    <tr>\n",
       "      <th>25999</th>\n",
       "      <td>0</td>\n",
       "      <td>0</td>\n",
       "      <td>0</td>\n",
       "      <td>0</td>\n",
       "      <td>0</td>\n",
       "      <td>0</td>\n",
       "      <td>0</td>\n",
       "      <td>0</td>\n",
       "      <td>0</td>\n",
       "      <td>0</td>\n",
       "      <td>...</td>\n",
       "      <td>0</td>\n",
       "      <td>0</td>\n",
       "      <td>0</td>\n",
       "      <td>0</td>\n",
       "      <td>0</td>\n",
       "      <td>0</td>\n",
       "      <td>0</td>\n",
       "      <td>0</td>\n",
       "      <td>0</td>\n",
       "      <td>0</td>\n",
       "    </tr>\n",
       "  </tbody>\n",
       "</table>\n",
       "<p>26000 rows × 784 columns</p>\n",
       "</div>"
      ]
     },
     "execution_count": 48,
     "metadata": {},
     "output_type": "execute_result"
    }
   ],
   "execution_count": 48
  },
  {
   "metadata": {
    "ExecuteTime": {
     "end_time": "2024-12-21T11:54:08.624393Z",
     "start_time": "2024-12-21T11:54:08.497561Z"
    }
   },
   "cell_type": "code",
   "source": "x_train, x_test, y_train, y_test = train_test_split(x, y, test_size=.2, shuffle=True,random_state=42)",
   "id": "315d36cd2075c674",
   "outputs": [],
   "execution_count": 27
  },
  {
   "metadata": {
    "ExecuteTime": {
     "end_time": "2024-12-21T11:54:10.031852Z",
     "start_time": "2024-12-21T11:54:10.019134Z"
    }
   },
   "cell_type": "code",
   "source": [
    "print(f\"X_train shape: {x_train.shape}\")\n",
    "print(f\"X_test shape: {x_test.shape}\")\n",
    "print(f\"y_train shape: {y_train.shape}\")\n",
    "print(f\"y_test shape: {y_test.shape}\")"
   ],
   "id": "732c9a8e23d89f4a",
   "outputs": [
    {
     "name": "stdout",
     "output_type": "stream",
     "text": [
      "X_train shape: (20800, 784)\n",
      "X_test shape: (5200, 784)\n",
      "y_train shape: (20800,)\n",
      "y_test shape: (5200,)\n"
     ]
    }
   ],
   "execution_count": 28
  },
  {
   "metadata": {
    "ExecuteTime": {
     "end_time": "2024-12-21T14:07:34.920292Z",
     "start_time": "2024-12-21T14:07:33.705905Z"
    }
   },
   "cell_type": "code",
   "source": [
    "scaler = StandardScaler()\n",
    "x_train = scaler.fit_transform(x_train)\n",
    "x_test = scaler.transform(x_test)"
   ],
   "id": "a0b5292cc4766429",
   "outputs": [],
   "execution_count": 51
  },
  {
   "metadata": {
    "ExecuteTime": {
     "end_time": "2024-12-21T14:07:35.878865Z",
     "start_time": "2024-12-21T14:07:35.857741Z"
    }
   },
   "cell_type": "code",
   "source": "",
   "id": "146d33060a2aa026",
   "outputs": [
    {
     "name": "stdout",
     "output_type": "stream",
     "text": [
      "X_train shape: (20800, 784)\n",
      "X_test shape: (5200, 784)\n",
      "y_train shape: (20800,)\n",
      "y_test shape: (5200,)\n"
     ]
    }
   ],
   "execution_count": 52
  },
  {
   "metadata": {
    "ExecuteTime": {
     "end_time": "2024-12-21T14:07:50.849969Z",
     "start_time": "2024-12-21T14:07:50.794030Z"
    }
   },
   "cell_type": "code",
   "source": "x_train",
   "id": "fef5f2319f931182",
   "outputs": [
    {
     "data": {
      "text/plain": [
       "array([[ 0.        ,  0.        ,  0.        , ..., -0.00693392,\n",
       "        -0.00693392, -0.00693392],\n",
       "       [ 0.        ,  0.        ,  0.        , ..., -0.00693392,\n",
       "        -0.00693392, -0.00693392],\n",
       "       [ 0.        ,  0.        ,  0.        , ..., -0.00693392,\n",
       "        -0.00693392, -0.00693392],\n",
       "       ...,\n",
       "       [ 0.        ,  0.        ,  0.        , ..., -0.00693392,\n",
       "        -0.00693392, -0.00693392],\n",
       "       [ 0.        ,  0.        ,  0.        , ..., -0.00693392,\n",
       "        -0.00693392, -0.00693392],\n",
       "       [ 0.        ,  0.        ,  0.        , ..., -0.00693392,\n",
       "        -0.00693392, -0.00693392]])"
      ]
     },
     "execution_count": 53,
     "metadata": {},
     "output_type": "execute_result"
    }
   ],
   "execution_count": 53
  },
  {
   "metadata": {
    "ExecuteTime": {
     "end_time": "2024-12-21T14:08:26.641861Z",
     "start_time": "2024-12-21T14:08:26.622898Z"
    }
   },
   "cell_type": "code",
   "source": "x_test",
   "id": "2390c6143a505960",
   "outputs": [
    {
     "data": {
      "text/plain": [
       "array([[ 0.        ,  0.        ,  0.        , ..., -0.00693392,\n",
       "        -0.00693392, -0.00693392],\n",
       "       [ 0.        ,  0.        ,  0.        , ..., -0.00693392,\n",
       "        -0.00693392, -0.00693392],\n",
       "       [ 0.        ,  0.        ,  0.        , ..., -0.00693392,\n",
       "        -0.00693392, -0.00693392],\n",
       "       ...,\n",
       "       [ 0.        ,  0.        ,  0.        , ..., -0.00693392,\n",
       "        -0.00693392, -0.00693392],\n",
       "       [ 0.        ,  0.        ,  0.        , ..., -0.00693392,\n",
       "        -0.00693392, -0.00693392],\n",
       "       [ 0.        ,  0.        ,  0.        , ..., -0.00693392,\n",
       "        -0.00693392, -0.00693392]])"
      ]
     },
     "execution_count": 54,
     "metadata": {},
     "output_type": "execute_result"
    }
   ],
   "execution_count": 54
  },
  {
   "metadata": {
    "ExecuteTime": {
     "end_time": "2024-12-21T14:09:23.636746Z",
     "start_time": "2024-12-21T14:08:34.769404Z"
    }
   },
   "cell_type": "code",
   "source": [
    "svm_linear = SVC(kernel=\"linear\")\n",
    "svm_linear.fit(x_train, y_train)\n",
    "y_pred_linear = svm_linear.predict(x_test)"
   ],
   "id": "475e62a3ba4f6d4",
   "outputs": [],
   "execution_count": 55
  },
  {
   "metadata": {
    "ExecuteTime": {
     "end_time": "2024-12-21T14:09:23.707115Z",
     "start_time": "2024-12-21T14:09:23.636746Z"
    }
   },
   "cell_type": "code",
   "source": "print(\"SVM Linear Kernel:\\n\", classification_report(y_test, y_pred_linear))",
   "id": "81dbcafb8f3d4298",
   "outputs": [
    {
     "name": "stdout",
     "output_type": "stream",
     "text": [
      "SVM Linear Kernel:\n",
      "               precision    recall  f1-score   support\n",
      "\n",
      "           0       0.78      0.84      0.81       191\n",
      "           1       0.80      0.88      0.84       182\n",
      "           2       0.87      0.87      0.87       218\n",
      "           3       0.80      0.83      0.82       219\n",
      "           4       0.78      0.78      0.78       195\n",
      "           5       0.90      0.96      0.93       191\n",
      "           6       0.85      0.86      0.85       230\n",
      "           7       0.77      0.80      0.79       192\n",
      "           8       0.90      0.97      0.93       212\n",
      "           9       0.85      0.81      0.83       214\n",
      "          10       0.81      0.89      0.85       209\n",
      "          11       0.91      0.96      0.94       213\n",
      "          12       0.88      0.88      0.88       221\n",
      "          13       0.78      0.78      0.78       187\n",
      "          14       0.86      0.89      0.87       195\n",
      "          15       0.89      0.93      0.91       194\n",
      "          16       0.89      0.82      0.85       197\n",
      "          17       0.82      0.73      0.77       193\n",
      "          18       0.92      0.87      0.89       182\n",
      "          19       0.94      0.90      0.92       203\n",
      "          20       0.87      0.82      0.84       190\n",
      "          21       0.95      0.99      0.97       200\n",
      "          22       0.90      0.80      0.85       198\n",
      "          23       0.90      0.85      0.88       176\n",
      "          24       0.88      0.86      0.87       195\n",
      "          25       0.94      0.86      0.90       203\n",
      "\n",
      "    accuracy                           0.86      5200\n",
      "   macro avg       0.86      0.86      0.86      5200\n",
      "weighted avg       0.86      0.86      0.86      5200\n",
      "\n"
     ]
    }
   ],
   "execution_count": 56
  },
  {
   "metadata": {
    "ExecuteTime": {
     "end_time": "2024-12-21T14:09:23.805719Z",
     "start_time": "2024-12-21T14:09:23.785735Z"
    }
   },
   "cell_type": "code",
   "source": [
    "f1_linear_svm = f1_score(y_test, y_pred_linear, average='weighted')\n",
    "print(f1_linear_svm)"
   ],
   "id": "e2224b7f28600145",
   "outputs": [
    {
     "name": "stdout",
     "output_type": "stream",
     "text": [
      "0.8625407980554529\n"
     ]
    }
   ],
   "execution_count": 57
  },
  {
   "metadata": {
    "ExecuteTime": {
     "end_time": "2024-12-21T14:09:23.901591Z",
     "start_time": "2024-12-21T14:09:23.845156Z"
    }
   },
   "cell_type": "code",
   "source": "cm_linear = confusion_matrix(y_test, y_pred_linear)",
   "id": "803211f529bc2528",
   "outputs": [],
   "execution_count": 58
  },
  {
   "metadata": {
    "ExecuteTime": {
     "end_time": "2024-12-21T14:09:25.150860Z",
     "start_time": "2024-12-21T14:09:23.925065Z"
    }
   },
   "cell_type": "code",
   "source": [
    "plt.figure(figsize=(10, 8))\n",
    "sns.heatmap(cm_linear, annot=True, fmt='d', cmap='Blues')\n",
    "plt.title('Confusion Matrix for linear svm')\n",
    "plt.ylabel('Actual')\n",
    "plt.xlabel('Predicted')\n",
    "plt.show()"
   ],
   "id": "f4b57c1218b28264",
   "outputs": [
    {
     "data": {
      "text/plain": [
       "<Figure size 1000x800 with 2 Axes>"
      ],
      "image/png": "[encoded data removed]"
     },
     "metadata": {},
     "output_type": "display_data"
    }
   ],
   "execution_count": 59
  },
  {
   "metadata": {},
   "cell_type": "code",
   "outputs": [],
   "execution_count": null,
   "source": "",
   "id": "2264f6eb576cfbb8"
  },
  {
   "metadata": {
    "ExecuteTime": {
     "end_time": "2024-12-21T14:11:17.287062Z",
     "start_time": "2024-12-21T14:09:41.639849Z"
    }
   },
   "cell_type": "code",
   "source": [
    "svm_rbf = SVC(kernel=\"rbf\")\n",
    "svm_rbf.fit(x_train, y_train)\n",
    "y_pred_rbf = svm_rbf.predict(x_test)"
   ],
   "id": "8258c71adc91c2a8",
   "outputs": [],
   "execution_count": 60
  },
  {
   "metadata": {
    "ExecuteTime": {
     "end_time": "2024-12-21T14:11:17.376766Z",
     "start_time": "2024-12-21T14:11:17.363068Z"
    }
   },
   "cell_type": "code",
   "source": "print(\"SVM Nonlinear Kernel:\\n\", classification_report(y_test, y_pred_rbf))",
   "id": "a291108e237cb7e6",
   "outputs": [
    {
     "name": "stdout",
     "output_type": "stream",
     "text": [
      "SVM Nonlinear Kernel:\n",
      "               precision    recall  f1-score   support\n",
      "\n",
      "           0       0.84      0.93      0.88       191\n",
      "           1       0.90      0.95      0.92       182\n",
      "           2       0.93      0.93      0.93       218\n",
      "           3       0.93      0.91      0.92       219\n",
      "           4       0.90      0.86      0.88       195\n",
      "           5       0.97      0.98      0.97       191\n",
      "           6       0.95      0.90      0.92       230\n",
      "           7       0.89      0.88      0.88       192\n",
      "           8       0.97      0.96      0.97       212\n",
      "           9       0.89      0.90      0.90       214\n",
      "          10       0.90      0.91      0.90       209\n",
      "          11       0.92      0.98      0.95       213\n",
      "          12       0.94      0.93      0.93       221\n",
      "          13       0.86      0.91      0.89       187\n",
      "          14       0.93      0.96      0.94       195\n",
      "          15       0.91      0.97      0.94       194\n",
      "          16       0.92      0.91      0.92       197\n",
      "          17       0.91      0.85      0.88       193\n",
      "          18       0.98      0.91      0.94       182\n",
      "          19       0.95      0.98      0.96       203\n",
      "          20       0.93      0.93      0.93       190\n",
      "          21       0.98      0.99      0.99       200\n",
      "          22       0.96      0.88      0.92       198\n",
      "          23       0.96      0.94      0.95       176\n",
      "          24       0.94      0.97      0.95       195\n",
      "          25       0.99      0.93      0.96       203\n",
      "\n",
      "    accuracy                           0.93      5200\n",
      "   macro avg       0.93      0.93      0.93      5200\n",
      "weighted avg       0.93      0.93      0.93      5200\n",
      "\n"
     ]
    }
   ],
   "execution_count": 61
  },
  {
   "metadata": {
    "ExecuteTime": {
     "end_time": "2024-12-21T14:11:17.707782Z",
     "start_time": "2024-12-21T14:11:17.700236Z"
    }
   },
   "cell_type": "code",
   "source": [
    "f1_rbf_svm = f1_score(y_test, y_pred_rbf, average='weighted')\n",
    "print(f1_rbf_svm)"
   ],
   "id": "e67f67d1c18f3284",
   "outputs": [
    {
     "name": "stdout",
     "output_type": "stream",
     "text": [
      "0.9276681821019235\n"
     ]
    }
   ],
   "execution_count": 62
  },
  {
   "metadata": {
    "ExecuteTime": {
     "end_time": "2024-12-21T14:11:17.825287Z",
     "start_time": "2024-12-21T14:11:17.814756Z"
    }
   },
   "cell_type": "code",
   "source": "cm_rbf = confusion_matrix(y_test, y_pred_rbf)",
   "id": "d1cd6f8a8e9e759b",
   "outputs": [],
   "execution_count": 63
  },
  {
   "metadata": {
    "ExecuteTime": {
     "end_time": "2024-12-21T14:11:21.110498Z",
     "start_time": "2024-12-21T14:11:17.859580Z"
    }
   },
   "cell_type": "code",
   "source": [
    "plt.figure(figsize=(10, 8))\n",
    "sns.heatmap(cm_rbf, annot=True, fmt='d', cmap='Blues')\n",
    "plt.title('Confusion Matrix for rbf svm')\n",
    "plt.ylabel('Actual')\n",
    "plt.xlabel('Predicted')\n",
    "plt.show()"
   ],
   "id": "884c968147f3f727",
   "outputs": [
    {
     "data": {
      "text/plain": [
       "<Figure size 1000x800 with 2 Axes>"
      ],
      "image/png": "[encoded data removed]"
     },
     "metadata": {},
     "output_type": "display_data"
    }
   ],
   "execution_count": 64
  }
 ],
 "metadata": {
  "kernelspec": {
   "display_name": "Python 3",
   "language": "python",
   "name": "python3"
  },
  "language_info": {
   "codemirror_mode": {
    "name": "ipython",
    "version": 2
   },
   "file_extension": ".py",
   "mimetype": "text/x-python",
   "name": "python",
   "nbconvert_exporter": "python",
   "pygments_lexer": "ipython2",
   "version": "2.7.6"
  }
 },
 "nbformat": 4,
 "nbformat_minor": 5
}
